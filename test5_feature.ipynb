{
 "cells": [
  {
   "cell_type": "code",
   "execution_count": 1,
   "id": "91ef9fe1",
   "metadata": {},
   "outputs": [],
   "source": [
    "import os\n",
    "import pandas as pd\n",
    "import pickle\n",
    "import biotype.similarity as sim"
   ]
  },
  {
   "cell_type": "code",
   "execution_count": 2,
   "id": "622eef56",
   "metadata": {},
   "outputs": [
    {
     "name": "stdout",
     "output_type": "stream",
     "text": [
      "L100_0_G7_1.txt\n",
      "L100_0_G8_1.txt\n",
      "L101_0_A1_1.txt\n",
      "L101_0_A2_1.txt\n",
      "L102_0_A3_1.txt\n"
     ]
    }
   ],
   "source": [
    "DATA_DIR_PATH = \"datasets/export\"\n",
    "META_FILE_PATH = \"datasets/meta.csv\"\n",
    "PEAK_DIR_PATH = \"extracted_peaks\"\n",
    "files =  os.listdir(DATA_DIR_PATH)\n",
    "files = [fn  for fn in files if fn.endswith(\".txt\")]\n",
    "files = sorted(files)\n",
    "for file in files[:5] :\n",
    "    print(file)"
   ]
  },
  {
   "cell_type": "code",
   "execution_count": 5,
   "id": "474c1224",
   "metadata": {},
   "outputs": [
    {
     "name": "stdout",
     "output_type": "stream",
     "text": [
      "(1230.3305161679914, 1)\n",
      "(1231.0130551994055, 0)\n",
      "(1231.3532787868435, 0)\n",
      "(1232.4255209716428, 0)\n",
      "(1232.5163361722357, 1)\n",
      "(1233.3396771133725, 2)\n",
      "(1233.8016473323844, 2)\n",
      "(1233.9990113138301, 1)\n",
      "(1234.3390100903496, 1)\n",
      "(1235.4391228827146, 2)\n",
      "(1235.8639516929545, 0)\n",
      "(1235.9431871561662, 2)\n",
      "(1236.0229919852222, 0)\n",
      "(1236.0745568566392, 0)\n",
      "(1236.1715408854086, 1)\n",
      "(1236.2199572176012, 2)\n",
      "(1236.957384206811, 1)\n",
      "(1237.2143160486874, 0)\n",
      "(1238.1513996367853, 2)\n",
      "(1238.2106597093036, 0)\n",
      "(1238.3624897289405, 1)\n",
      "(1238.891537804621, 2)\n",
      "(1239.6425706971131, 0)\n",
      "(1239.6626512534358, 2)\n",
      "(1239.7664107975106, 0)\n",
      "(1240.0205220051914, 2)\n",
      "(1240.780916547018, 0)\n",
      "(1242.0569796436564, 2)\n",
      "(1242.5024199328914, 2)\n",
      "(1242.6138859451648, 0)\n"
     ]
    }
   ],
   "source": [
    "import random\n",
    "a = [(v+5 .0* random.random(), random.choice(range(3))) for _ in range(3) for v in range(1230,1240)]\n",
    "for x in sorted(a):\n",
    "    print(x)"
   ]
  },
  {
   "cell_type": "code",
   "execution_count": null,
   "id": "a70deec2",
   "metadata": {},
   "outputs": [],
   "source": [
    "n = len(files)\n",
    "for i in range(n):\n",
    "    df = None\n",
    "    df = pd.read_table(f\"{DATA_DIR_PATH}/{files[i]}\",sep=\" \", header=None,names=['m/z', 'intensity']) \n",
    "    x, y = df['m/z'].to_numpy(), df['intensity'].to_numpy()\n",
    "\n",
    "    pickle_file = files[i][:-4] # trim '.txt'\n",
    "    with open(f'{PEAK_DIR_PATH}/{pickle_file}_peaks.pkl', 'rb') as peak_file:\n",
    "        peaks = pickle.load(peak_file)\n",
    "        stype = files[i].split('_')[0]\n",
    "        st = serotype.get(stype, 'NA')\n",
    "        print(f'{pickle_file} ({st}) peaks: {len(peaks)}')\n",
    "        peaks_extracted +=  [(x[peaks], y[peaks])] "
   ]
  }
 ],
 "metadata": {
  "kernelspec": {
   "display_name": "Python 3 (ipykernel)",
   "language": "python",
   "name": "python3"
  },
  "language_info": {
   "codemirror_mode": {
    "name": "ipython",
    "version": 3
   },
   "file_extension": ".py",
   "mimetype": "text/x-python",
   "name": "python",
   "nbconvert_exporter": "python",
   "pygments_lexer": "ipython3",
   "version": "3.11.4"
  }
 },
 "nbformat": 4,
 "nbformat_minor": 5
}
