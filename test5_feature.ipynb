{
 "cells": [
  {
   "cell_type": "code",
   "execution_count": 3,
   "id": "91ef9fe1",
   "metadata": {},
   "outputs": [],
   "source": [
    "\"\"\"\n",
    " Peak alignment between mass spectrum in the whole dataset \n",
    "\"\"\"\n",
    "import os\n",
    "import pandas as pd\n",
    "import pickle\n",
    "import biotype.similarity as sim"
   ]
  },
  {
   "cell_type": "code",
   "execution_count": 4,
   "id": "622eef56",
   "metadata": {},
   "outputs": [
    {
     "data": {
      "text/plain": [
       "['L100_0_G7_1.txt',\n",
       " 'L100_0_G8_1.txt',\n",
       " 'L101_0_A1_1.txt',\n",
       " 'L101_0_A2_1.txt',\n",
       " 'L102_0_A3_1.txt']"
      ]
     },
     "execution_count": 4,
     "metadata": {},
     "output_type": "execute_result"
    }
   ],
   "source": [
    "DATA_DIR_PATH = \"datasets/export\"\n",
    "PEAK_DIR_PATH = \"extracted_peaks\"\n",
    "files =  os.listdir(DATA_DIR_PATH)\n",
    "files = [fn  for fn in files if fn.endswith(\".txt\")]\n",
    "files = sorted(files)\n",
    "files[:5]"
   ]
  },
  {
   "cell_type": "code",
   "execution_count": 5,
   "id": "a70deec2",
   "metadata": {},
   "outputs": [
    {
     "data": {
      "text/plain": [
       "[1000.748, 1000.748, 1000.871, 1000.871, 1000.948]"
      ]
     },
     "execution_count": 5,
     "metadata": {},
     "output_type": "execute_result"
    }
   ],
   "source": [
    "n = len(files)\n",
    "all_peaks = [] # list of tuples (m/z, intensity, dataset_id) ordered by m/z value\n",
    "for i in range(n):\n",
    "    df = None\n",
    "    df = pd.read_table(f\"{DATA_DIR_PATH}/{files[i]}\",sep=\" \", header=None,names=['m/z', 'intensity']) \n",
    "    x, y = df['m/z'].to_numpy(), df['intensity'].to_numpy()\n",
    "\n",
    "    pickle_file = files[i][:-4] # trim '.txt'\n",
    "    with open(f'{PEAK_DIR_PATH}/{pickle_file}_peaks.pkl', 'rb') as peak_file:\n",
    "        peaks = pickle.load(peak_file)\n",
    "        # peaks_extracted +=  [(x[peaks], y[peaks])] \n",
    "        for p in peaks:\n",
    "            all_peaks += [(x[p],y[p], i)]\n",
    "\n",
    "all_peaks = sorted(all_peaks, key=lambda x: x[0])\n",
    "all_mz = [mz for mz,pk,ms in all_peaks]\n",
    "all_mz[:5]"
   ]
  },
  {
   "cell_type": "code",
   "execution_count": 6,
   "metadata": {},
   "outputs": [
    {
     "name": "stdout",
     "output_type": "stream",
     "text": [
      "min=1000.748, max=20073.668, N=20923\n"
     ]
    }
   ],
   "source": [
    "print(f\"min={all_mz[0]}, max={all_mz[-1]}, N={len(all_mz)}\")\n",
    "mz_min, mz_max = all_mz[0], all_mz[-1]"
   ]
  },
  {
   "cell_type": "code",
   "execution_count": 7,
   "metadata": {},
   "outputs": [
    {
     "data": {
      "text/html": [
       "<div>\n",
       "<style scoped>\n",
       "    .dataframe tbody tr th:only-of-type {\n",
       "        vertical-align: middle;\n",
       "    }\n",
       "\n",
       "    .dataframe tbody tr th {\n",
       "        vertical-align: top;\n",
       "    }\n",
       "\n",
       "    .dataframe thead th {\n",
       "        text-align: right;\n",
       "    }\n",
       "</style>\n",
       "<table border=\"1\" class=\"dataframe\">\n",
       "  <thead>\n",
       "    <tr style=\"text-align: right;\">\n",
       "      <th></th>\n",
       "      <th>mz</th>\n",
       "      <th>intensity</th>\n",
       "      <th>dataset_id</th>\n",
       "    </tr>\n",
       "  </thead>\n",
       "  <tbody>\n",
       "    <tr>\n",
       "      <th>0</th>\n",
       "      <td>1000.748</td>\n",
       "      <td>5652</td>\n",
       "      <td>42</td>\n",
       "    </tr>\n",
       "    <tr>\n",
       "      <th>1</th>\n",
       "      <td>1000.748</td>\n",
       "      <td>2899</td>\n",
       "      <td>90</td>\n",
       "    </tr>\n",
       "    <tr>\n",
       "      <th>2</th>\n",
       "      <td>1000.871</td>\n",
       "      <td>7600</td>\n",
       "      <td>93</td>\n",
       "    </tr>\n",
       "    <tr>\n",
       "      <th>3</th>\n",
       "      <td>1000.871</td>\n",
       "      <td>6380</td>\n",
       "      <td>95</td>\n",
       "    </tr>\n",
       "    <tr>\n",
       "      <th>4</th>\n",
       "      <td>1000.948</td>\n",
       "      <td>2654</td>\n",
       "      <td>100</td>\n",
       "    </tr>\n",
       "  </tbody>\n",
       "</table>\n",
       "</div>"
      ],
      "text/plain": [
       "         mz  intensity  dataset_id\n",
       "0  1000.748       5652          42\n",
       "1  1000.748       2899          90\n",
       "2  1000.871       7600          93\n",
       "3  1000.871       6380          95\n",
       "4  1000.948       2654         100"
      ]
     },
     "execution_count": 7,
     "metadata": {},
     "output_type": "execute_result"
    }
   ],
   "source": [
    "import pandas as pd\n",
    "df = pd.DataFrame(all_peaks, columns=['mz', 'intensity', 'dataset_id'])\n",
    "df.head()"
   ]
  },
  {
   "cell_type": "code",
   "execution_count": 8,
   "metadata": {},
   "outputs": [
    {
     "data": {
      "text/html": [
       "<div>\n",
       "<style scoped>\n",
       "    .dataframe tbody tr th:only-of-type {\n",
       "        vertical-align: middle;\n",
       "    }\n",
       "\n",
       "    .dataframe tbody tr th {\n",
       "        vertical-align: top;\n",
       "    }\n",
       "\n",
       "    .dataframe thead th {\n",
       "        text-align: right;\n",
       "    }\n",
       "</style>\n",
       "<table border=\"1\" class=\"dataframe\">\n",
       "  <thead>\n",
       "    <tr style=\"text-align: right;\">\n",
       "      <th></th>\n",
       "      <th>mz</th>\n",
       "      <th>intensity</th>\n",
       "      <th>dataset_id</th>\n",
       "    </tr>\n",
       "  </thead>\n",
       "  <tbody>\n",
       "    <tr>\n",
       "      <th>20918</th>\n",
       "      <td>20070.254</td>\n",
       "      <td>284</td>\n",
       "      <td>47</td>\n",
       "    </tr>\n",
       "    <tr>\n",
       "      <th>20919</th>\n",
       "      <td>20070.681</td>\n",
       "      <td>481</td>\n",
       "      <td>7</td>\n",
       "    </tr>\n",
       "    <tr>\n",
       "      <th>20920</th>\n",
       "      <td>20071.480</td>\n",
       "      <td>1</td>\n",
       "      <td>0</td>\n",
       "    </tr>\n",
       "    <tr>\n",
       "      <th>20921</th>\n",
       "      <td>20071.961</td>\n",
       "      <td>264</td>\n",
       "      <td>61</td>\n",
       "    </tr>\n",
       "    <tr>\n",
       "      <th>20922</th>\n",
       "      <td>20073.668</td>\n",
       "      <td>246</td>\n",
       "      <td>82</td>\n",
       "    </tr>\n",
       "  </tbody>\n",
       "</table>\n",
       "</div>"
      ],
      "text/plain": [
       "              mz  intensity  dataset_id\n",
       "20918  20070.254        284          47\n",
       "20919  20070.681        481           7\n",
       "20920  20071.480          1           0\n",
       "20921  20071.961        264          61\n",
       "20922  20073.668        246          82"
      ]
     },
     "execution_count": 8,
     "metadata": {},
     "output_type": "execute_result"
    }
   ],
   "source": [
    "df.tail()"
   ]
  },
  {
   "cell_type": "code",
   "execution_count": 9,
   "metadata": {},
   "outputs": [
    {
     "data": {
      "text/plain": [
       "<AxesSubplot:>"
      ]
     },
     "execution_count": 9,
     "metadata": {},
     "output_type": "execute_result"
    },
    {
     "data": {
      "image/png": "[encoded data removed]",
      "text/plain": [
       "<Figure size 720x360 with 1 Axes>"
      ]
     },
     "metadata": {
      "needs_background": "light"
     },
     "output_type": "display_data"
    }
   ],
   "source": [
    "from pylab import rcParams\n",
    "rcParams['figure.figsize'] = 10, 5     \n",
    "df['mz'].hist(bins=1000)"
   ]
  },
  {
   "cell_type": "code",
   "execution_count": 10,
   "metadata": {},
   "outputs": [
    {
     "data": {
      "text/plain": [
       "{1: [123, 124, 128],\n",
       " 2: [160, 167],\n",
       " 3: [213, 215],\n",
       " 4: [230, 245],\n",
       " 5: [255, 257],\n",
       " 6: [400, 401, 402],\n",
       " 7: [430]}"
      ]
     },
     "execution_count": 10,
     "metadata": {},
     "output_type": "execute_result"
    }
   ],
   "source": [
    "import itertools\n",
    "\"\"\" Partition to groups not exceeding delta --> TO BE DELETED\n",
    "\"\"\"\n",
    "def grouper(iterable, delta=5):\n",
    "    low = None\n",
    "    group = []\n",
    "    for item in iterable:\n",
    "        if low is None or item - low <= delta:\n",
    "            group.append(item)\n",
    "            if low is None:\n",
    "                low = item\n",
    "        else:\n",
    "            yield group\n",
    "            group = [item]\n",
    "            low = item\n",
    "    if group:\n",
    "        yield group\n",
    "\n",
    "numbers = [123, 124, 128, 160, 167, 213, 215, 230, 245, 255, 257, 400, 401, 402, 430]\n",
    "dict(enumerate(grouper(numbers, 15), 1))"
   ]
  },
  {
   "cell_type": "markdown",
   "metadata": {},
   "source": [
    "# Algorithms\n",
    "- algorithm 1 (segment): reccurisively divide data whenever gap > delta, w.r.t. step=1,2,...\n",
    "- algorithm 2 (linear_join): reccurisively join leftmost neighbors when span < epsilon\n",
    "- algorithm 3 (best_join): reccurisively join nearest neighbors when span < epsilon \n",
    "\n",
    "# Parameters\n",
    "- `data`: data to process\n",
    "- `delta`: reject threshold, data with a gap wider than `delta` will be divided\n",
    "- `epsilon`: accept threshold, neighbors close enough (`epsilon`) will be joined"
   ]
  },
  {
   "cell_type": "code",
   "execution_count": 11,
   "metadata": {},
   "outputs": [
    {
     "name": "stdout",
     "output_type": "stream",
     "text": [
      "[(1, 2), (2, 3), (3, 5), (5, 6)]\n"
     ]
    }
   ],
   "source": [
    "def pairwise(iterable):\n",
    "    \"\"\" generate pair of consequent items   \n",
    "      [s0,s1,s2,s3] -> [(s0, s1), (s1, s2), (s2, s3)]\n",
    "    \"\"\"\n",
    "    a, b = itertools.tee(iterable)\n",
    "    next(b, None)\n",
    "    return zip(a,b)\n",
    "\n",
    "print (list(pairwise([1,2,3,5,6])))"
   ]
  },
  {
   "cell_type": "code",
   "execution_count": 12,
   "metadata": {},
   "outputs": [],
   "source": [
    "def segment(sorted_uniques, delta=3):\n",
    "    \"\"\" algorithm 1 (segment): reccurisively divide data whenever gap > delta, w.r.t. step=1,2,3,...\n",
    "    input: a list of sortd unique m/z values\n",
    "    ouput: list of indexes. `b[i], b[i+1]` form an open-closed interval, define a cluster  \n",
    "    \"\"\"\n",
    "    # sorted_uniques = sorted(list(set(data)))\n",
    "    return exec_segment(sorted_uniques,[-1, len(sorted_uniques)-1],  delta, 1)\n",
    "        \n",
    "def exec_segment(sorted_uniques, bins, delta, step):\n",
    "    new_bins = bins[:]\n",
    "    done = True\n",
    "    for s, t in pairwise(bins):\n",
    "        for i in range(s+1, t, step):\n",
    "            j = i + step\n",
    "            if j<=t and sorted_uniques [j] - sorted_uniques [i] > delta:\n",
    "                new_bins += [j-1]\n",
    "                done = False\n",
    "                    \n",
    "    bins = sorted(list(set(new_bins)))\n",
    "    \n",
    "    if done:\n",
    "        return bins\n",
    "    else:\n",
    "        return exec_segment(sorted_uniques, bins, delta, step+1)\n",
    "    "
   ]
  },
  {
   "cell_type": "code",
   "execution_count": 13,
   "metadata": {},
   "outputs": [
    {
     "name": "stdout",
     "output_type": "stream",
     "text": [
      "[-1, 12, 37, 47, 67, 70, 90, 91, 120, 138]\n",
      "[11897, 11901, 11903, 11906, 11907, 11910, 11913, 11917, 11926, 11931]\n"
     ]
    }
   ],
   "source": [
    "delta = 3\n",
    "sorted_uniques = sorted(list(set(all_mz)))\n",
    "bins = segment(sorted_uniques, delta)\n",
    "print(bins[:10])\n",
    "print(bins[-10:])"
   ]
  },
  {
   "cell_type": "code",
   "execution_count": 14,
   "metadata": {
    "scrolled": false
   },
   "outputs": [
    {
     "name": "stdout",
     "output_type": "stream",
     "text": [
      "[19983.012, 19985.835]:  7 2.823 y\n",
      "[19987.539, 19988.628]:  3 1.089 y\n",
      "[19989.402, 19991.106]:  2 1.704 #BAD: closer to above one\n",
      "[20001.333, 20002.689]:  2 1.356 y\n",
      "[20007.988, 20007.988]:  1 0.000 y\n",
      "[20011.398, 20013.955]:  2 2.557 y\n",
      "[20022.053, 20022.053]:  1 0.000 y\n",
      "[20026.317, 20026.743]:  2 0.426 y\n",
      "[20031.007, 20031.007]:  1 0.000 y\n",
      "[20034.664, 20034.664]:  1 0.000 y\n",
      "[20039.109, 20041.061]:  4 1.952 y\n",
      "[20042.947, 20044.048]:  2 1.101 y\n",
      "[20045.080, 20048.066]:  3 2.986 #BAD: closer to above one\n",
      "[20051.052, 20051.052]:  1 0.000 y\n",
      "[20055.318, 20057.628]:  3 2.310 y\n",
      "[20058.732, 20061.719]:  3 2.987 #BAD: closer to above one\n",
      "[20063.425, 20066.413]:  4 2.988 #BAD: closer to above one\n",
      "[20066.840, 20069.827]:  9 2.987 #BAD: closer to above one\n",
      "[20070.254, 20073.668]:  5 3.414 #BAD: closer to above one\n"
     ]
    }
   ],
   "source": [
    "ob = 0\n",
    "for i, j in pairwise(bins[-20:]):\n",
    "    a, b = sorted_uniques[i+1], sorted_uniques[j]\n",
    "    ok = 'y' if b-a < a-ob else '#BAD: closer to above one' \n",
    "    ob = b\n",
    "    print(f\"[{a:.3f}, {b:.3f}]:{j-i:3d} {b-a:.3f} {ok}\")"
   ]
  },
  {
   "cell_type": "code",
   "execution_count": 37,
   "metadata": {},
   "outputs": [],
   "source": [
    "import statistics as st\n",
    "def evaluate(bins):\n",
    "    \"\"\"evaluate bucketization by (1) average variance, (2) average gap \n",
    "    \"\"\"\n",
    "    vmin = min([min(a) for a in bins])\n",
    "    vmax = max([max(a) for a in bins])\n",
    "    gap = sum([abs(min(b)-max(a)) for a,b in pairwise(bins)])/(vmax-vmin)\n",
    "    dev = st.mean([st.pstdev(b) for b in bins])\n",
    "    return gap, dev"
   ]
  },
  {
   "cell_type": "code",
   "execution_count": 38,
   "metadata": {},
   "outputs": [],
   "source": [
    "def divide(sorted_uniques, delta=3):\n",
    "    \"\"\" algorithm 1' (divide): a new implementation of algorithm a, return cluster of m/z values, instead of indexes\n",
    "    input: a list of sortd unique m/z values\n",
    "    ouput: list of m/z value lists, each m/z value list is a cluster \n",
    "    \"\"\"\n",
    "    bins =[sorted_uniques]\n",
    "    done, step = False, 1\n",
    "    while not done:\n",
    "        new_bins = []\n",
    "        done = True\n",
    "        for b in bins: # divide each bin if necessary\n",
    "            s = 0\n",
    "            for i in range(0, len(b)-1, step):\n",
    "                j = i + step\n",
    "                if j<len(b) and b[j] - b[i] > delta:\n",
    "                    new_bins += [b[s:j]]\n",
    "                    s, done = j, False\n",
    "            \n",
    "            if s < len(b): # add last part as a new bin\n",
    "                new_bins += [b[s:]]\n",
    "                \n",
    "        bins = new_bins[:] \n",
    "        step += 1\n",
    "        \n",
    "    return bins "
   ]
  },
  {
   "cell_type": "code",
   "execution_count": 117,
   "metadata": {},
   "outputs": [
    {
     "name": "stdout",
     "output_type": "stream",
     "text": [
      "[[1000.748, 1000.871, 1000.948, 1001.081, 1001.083, 1001.273, 1001.366, 1001.461, 1001.556, 1001.651, 1001.746, 1001.936, 1002.126], [1007.214, 1007.309, 1007.405, 1007.5, 1007.595, 1007.716, 1007.737, 1007.832, 1007.881, 1007.932, 1008.023, 1008.118, 1008.122, 1008.213, 1008.309, 1008.404, 1008.478, 1008.499, 1008.595, 1008.647, 1008.668, 1008.69, 1008.785, 1008.88], [1009.41], [1016.519, 1016.615, 1016.71, 1016.902, 1016.997, 1017.093, 1017.189, 1017.38, 1017.571, 1017.667], [1023.418, 1023.472, 1023.514, 1023.61, 1023.778, 1023.81, 1023.994, 1024.186, 1024.282, 1024.29, 1024.378, 1024.474, 1024.57, 1024.666, 1024.738, 1024.762, 1024.834, 1024.858, 1025.219, 1025.339]]\n",
      "****************************************\n",
      "[[20066.84, 20067.266, 20067.693, 20068.12, 20068.547], [20068.973, 20069.4, 20069.579, 20069.827, 20070.254, 20070.681], [20071.48], [20071.961], [20073.668]]\n",
      "****************************************\n",
      "gap=0.8297, dev=0.3717\n"
     ]
    }
   ],
   "source": [
    "delta = 2\n",
    "sorted_uniques = sorted(list(set(all_mz)))\n",
    "bins = divide(sorted_uniques, delta)\n",
    "\n",
    "print(bins[:5])\n",
    "print(\"*\" * 40)\n",
    "print(bins[-5:])\n",
    "\n",
    "gap, dev = evaluate(bins)\n",
    "print(\"*\" * 40)\n",
    "print(f\"gap={gap:.4f}, dev={dev:.4f}\")"
   ]
  },
  {
   "cell_type": "code",
   "execution_count": 118,
   "metadata": {},
   "outputs": [
    {
     "name": "stdout",
     "output_type": "stream",
     "text": [
      "[1000.748, 1002.126]: 13 1.378 y\n",
      "[1007.214, 1008.880]: 24 1.666 y\n",
      "[1009.410, 1009.410]:  1 0.000 y\n",
      "[1016.519, 1017.667]: 10 1.148 y\n",
      "[1023.418, 1025.339]: 20 1.921 y\n",
      "[1031.650, 1033.425]:  3 1.775 y\n",
      "[1044.123, 1046.099]: 18 1.976 y\n",
      "[1046.196, 1046.584]:  2 0.388 #BAD: closer to above one\n",
      "[1049.304, 1049.304]:  1 0.000 y\n",
      "[1053.259, 1055.241]: 25 1.982 y\n",
      "[20051.052, 20051.052]:  1 0.000 y\n",
      "[20055.318, 20055.318]:  1 0.000 y\n",
      "[20057.452, 20058.981]:  4 1.529 y\n",
      "[20061.719, 20063.425]:  2 1.706 y\n",
      "[20064.706, 20066.413]:  3 1.707 #BAD: closer to above one\n",
      "[20066.840, 20068.547]:  5 1.707 #BAD: closer to above one\n",
      "[20068.973, 20070.681]:  6 1.708 #BAD: closer to above one\n",
      "[20071.480, 20071.480]:  1 0.000 y\n",
      "[20071.961, 20071.961]:  1 0.000 y\n",
      "[20073.668, 20073.668]:  1 0.000 y\n"
     ]
    }
   ],
   "source": [
    "ob = 0\n",
    "for x in bins[:10]+bins[-10:]:\n",
    "    a, b = min(x), max(x)\n",
    "    ok = 'y' if b-a < a-ob else '#BAD: closer to above one' \n",
    "    ob = b\n",
    "    print(f\"[{a:.3f}, {b:.3f}]:{len(x):3d} {b-a:.3f} {ok}\")"
   ]
  },
  {
   "cell_type": "code",
   "execution_count": 109,
   "metadata": {},
   "outputs": [],
   "source": [
    "def linear_join(sorted_uniques, delta=5, epsilon=1):\n",
    "    \"\"\" algorithm 2 (linear_join): reccurisively join leftmost neighbors when span < epsilon\n",
    "    input: a list of sortd unique m/z values\n",
    "    ouput: list of m/z value lists, each m/z value list is a cluster \n",
    "    \"\"\"\n",
    "    # sorted_uniques = sorted(list(set(data)))\n",
    "    bins = [[v] for v in sorted_uniques]\n",
    "    \n",
    "    for d in reversed(range(15)):\n",
    "        new_bins = []\n",
    "        i, e = 0, epsilon/2**d\n",
    "        while i < len(bins):\n",
    "            if i == len(bins)-1:\n",
    "                new_bins += [bins[i]]\n",
    "                break\n",
    "\n",
    "            a, b = bins[i], bins[i+1]\n",
    "            if max(b) - min(a) < e: # |span{a, b}|< e\n",
    "                new_bins += [a+b]\n",
    "                i += 2\n",
    "            else:\n",
    "                new_bins += [a]\n",
    "                i += 1\n",
    "            \n",
    "        bins = new_bins[:]\n",
    "        \n",
    "    return bins\n"
   ]
  },
  {
   "cell_type": "code",
   "execution_count": 114,
   "metadata": {},
   "outputs": [
    {
     "name": "stdout",
     "output_type": "stream",
     "text": [
      "[[1000.748, 1000.871, 1000.948, 1001.081, 1001.083, 1001.273, 1001.366, 1001.461, 1001.556, 1001.651, 1001.746, 1001.936, 1002.126], [1007.214, 1007.309, 1007.405, 1007.5, 1007.595, 1007.716, 1007.737, 1007.832, 1007.881, 1007.932, 1008.023, 1008.118, 1008.122, 1008.213, 1008.309, 1008.404, 1008.478, 1008.499, 1008.595, 1008.647, 1008.668, 1008.69, 1008.785, 1008.88], [1009.41], [1016.519, 1016.615, 1016.71, 1016.902, 1016.997, 1017.093, 1017.189, 1017.38, 1017.571, 1017.667], [1023.418, 1023.472, 1023.514, 1023.61, 1023.778, 1023.81, 1023.994, 1024.186, 1024.282, 1024.29, 1024.378, 1024.474, 1024.57, 1024.666, 1024.738, 1024.762, 1024.834, 1024.858]]\n",
      "****************************************\n",
      "[[20064.706, 20065.986, 20066.413], [20066.84, 20067.266, 20067.693, 20068.12], [20068.547, 20068.973, 20069.4, 20069.579, 20069.827], [20070.254, 20070.681, 20071.48, 20071.961], [20073.668]]\n",
      "****************************************\n",
      "gap=0.8417, dev=0.3519\n"
     ]
    }
   ],
   "source": [
    "delta, epsilon =5, 2\n",
    "sorted_uniques = sorted(list(set(all_mz)))\n",
    "bins = linear_join(sorted_uniques, delta, epsilon)\n",
    "\n",
    "print(bins[:5])\n",
    "print(\"*\" * 40)\n",
    "print(bins[-5:])\n",
    "\n",
    "gap, dev = evaluate(bins)\n",
    "print(\"*\" * 40)\n",
    "print(f\"gap={gap:.4f}, dev={dev:.4f}\")"
   ]
  },
  {
   "cell_type": "code",
   "execution_count": 111,
   "metadata": {
    "scrolled": false
   },
   "outputs": [
    {
     "name": "stdout",
     "output_type": "stream",
     "text": [
      "[1000.748,1002.126]  13 d=1.378  y\n",
      "[1007.214,1009.410]  25 d=2.196  y\n",
      "[1016.519,1017.667]  10 d=1.148  y\n",
      "[1023.418,1025.339]  20 d=1.921  y\n",
      "[1031.650,1033.425]   3 d=1.775  y\n",
      "[1044.123,1046.584]  20 d=2.461  y\n",
      "[1049.304,1049.304]   1 d=0.000  y\n",
      "[1053.259,1055.729]  29 d=2.470  y\n",
      "[1061.848,1064.619]  16 d=2.771  y\n",
      "[1064.717,1066.382]  12 d=1.665  #BAD: closer to above one\n",
      "[20039.109,20041.061]   4 d=1.952  y\n",
      "[20042.947,20045.080]   3 d=2.133  #BAD: closer to above one\n",
      "[20047.387,20048.066]   2 d=0.679  y\n",
      "[20051.052,20051.052]   1 d=0.000  y\n",
      "[20055.318,20057.628]   3 d=2.310  y\n",
      "[20058.732,20061.719]   3 d=2.987  #BAD: closer to above one\n",
      "[20063.425,20064.706]   2 d=1.281  y\n",
      "[20065.986,20068.973]   8 d=2.987  #BAD: closer to above one\n",
      "[20069.400,20071.961]   7 d=2.561  #BAD: closer to above one\n",
      "[20073.668,20073.668]   1 d=0.000  y\n"
     ]
    }
   ],
   "source": [
    "ob = 0\n",
    "for x in bins[:10]+bins[-10:]:\n",
    "    a, b = min(x), max(x)\n",
    "    ok = 'y' if b-a < a-ob else '#BAD: closer to above one' \n",
    "    ob = b\n",
    "    print(f\"[{a:.3f},{b:.3f}] {len(x):3d} d={b-a:.3f}  {ok}\")"
   ]
  },
  {
   "cell_type": "code",
   "execution_count": 104,
   "metadata": {
    "scrolled": true
   },
   "outputs": [],
   "source": [
    "import heapq\n",
    "\n",
    "def best_join(sorted_uniques, delta, epsilon): \n",
    "    \"\"\"algorithm 3 (best_join): reccurisively join nearest neighbors when span < epsilon\n",
    "    input: a list of sortd unique m/z values\n",
    "    ouput: list of m/z value lists, each m/z value list is a cluster \n",
    "    \"\"\"\n",
    "    bins = [-1, len(sorted_uniques)-1]\n",
    "    for s, t in pairwise(bins): # divide bucket at gap > delta\n",
    "        for i in range(s+1, t):\n",
    "            if sorted_uniques [i+1] - sorted_uniques [i] > delta:\n",
    "                bins += [i]\n",
    "                    \n",
    "    bins = sorted(list(set(bins)))\n",
    "    my_bins = []\n",
    "    for s, t in pairwise(bins): \n",
    "        new_bins = []\n",
    "        my_bin = [[v] for v in sorted_uniques[s+1:t+1]]\n",
    "\n",
    "        done = False\n",
    "        while not done:\n",
    "            n = len(my_bin)\n",
    "            alpha  = lambda x: round(max(my_bin[x+1])-min(my_bin[x]),3)\n",
    "            pq = [(alpha(x), x) for x in range(n-1) if alpha(x)<epsilon]\n",
    "            if bool(pq): \n",
    "                heapq.heapify(pq)\n",
    "                d, x= heapq.heappop(pq)\n",
    "                my_bin = my_bin[:x] + [my_bin[x]+my_bin[x+1]] + my_bin[x+2:]\n",
    "            else:\n",
    "                new_bins += my_bin\n",
    "                done = True\n",
    "        \n",
    "        my_bins += new_bins\n",
    "        \n",
    "    return sorted(my_bins, key=lambda x: x[0])\n"
   ]
  },
  {
   "cell_type": "code",
   "execution_count": 115,
   "metadata": {},
   "outputs": [
    {
     "name": "stdout",
     "output_type": "stream",
     "text": [
      "[[1000.748, 1000.871, 1000.948, 1001.081, 1001.083, 1001.273, 1001.366, 1001.461, 1001.556, 1001.651, 1001.746, 1001.936, 1002.126], [1007.214, 1007.309, 1007.405, 1007.5, 1007.595, 1007.716, 1007.737, 1007.832, 1007.881, 1007.932, 1008.023, 1008.118, 1008.122, 1008.213], [1008.309, 1008.404, 1008.478, 1008.499, 1008.595, 1008.647, 1008.668, 1008.69, 1008.785, 1008.88, 1009.41], [1016.519, 1016.615, 1016.71, 1016.902, 1016.997, 1017.093, 1017.189, 1017.38, 1017.571, 1017.667], [1023.418, 1023.472, 1023.514, 1023.61, 1023.778, 1023.81, 1023.994, 1024.186, 1024.282, 1024.29, 1024.378, 1024.474, 1024.57, 1024.666, 1024.738, 1024.762, 1024.834, 1024.858, 1025.219, 1025.339]]\n",
      "****************************************\n",
      "[[20065.986, 20066.413, 20066.84, 20067.266], [20067.693, 20068.12, 20068.547, 20068.973], [20069.4, 20069.579, 20069.827, 20070.254, 20070.681], [20071.48, 20071.961], [20073.668]]\n",
      "****************************************\n",
      "gap=0.8469, dev=0.3377\n"
     ]
    }
   ],
   "source": [
    "delta, epsilon =5, 2\n",
    "sorted_uniques = sorted(list(set(all_mz)))\n",
    "bins = best_join(sorted_uniques, delta, epsilon)\n",
    "\n",
    "print(bins[:5])\n",
    "print(\"*\" * 40)\n",
    "print(bins[-5:])\n",
    "\n",
    "gap, dev = evaluate(bins)\n",
    "print(\"*\" * 40)\n",
    "print(f\"gap={gap:.4f}, dev={dev:.4f}\")"
   ]
  },
  {
   "cell_type": "code",
   "execution_count": 116,
   "metadata": {},
   "outputs": [
    {
     "name": "stdout",
     "output_type": "stream",
     "text": [
      "[1000.748, 1002.126]: 13 1.378 y\n",
      "[1007.214, 1008.213]: 14 0.999 y\n",
      "[1008.309, 1009.410]: 11 1.101 #BAD: closer to above one\n",
      "[1016.519, 1017.667]: 10 1.148 y\n",
      "[1023.418, 1025.339]: 20 1.921 y\n",
      "[1031.650, 1033.425]:  3 1.775 y\n",
      "[1044.123, 1045.614]: 16 1.491 y\n",
      "[1045.905, 1046.584]:  4 0.679 #BAD: closer to above one\n",
      "[1049.304, 1049.304]:  1 0.000 y\n",
      "[1053.259, 1054.656]: 15 1.397 y\n",
      "[20051.052, 20051.052]:  1 0.000 y\n",
      "[20055.318, 20055.318]:  1 0.000 y\n",
      "[20057.452, 20058.981]:  4 1.529 y\n",
      "[20061.719, 20061.719]:  1 0.000 y\n",
      "[20063.425, 20064.706]:  2 1.281 y\n",
      "[20065.986, 20067.266]:  4 1.280 y\n",
      "[20067.693, 20068.973]:  4 1.280 #BAD: closer to above one\n",
      "[20069.400, 20070.681]:  5 1.281 #BAD: closer to above one\n",
      "[20071.480, 20071.961]:  2 0.481 y\n",
      "[20073.668, 20073.668]:  1 0.000 y\n"
     ]
    }
   ],
   "source": [
    "ob = 0\n",
    "for x in bins[:10]+bins[-10:]:\n",
    "    a, b = min(x), max(x)\n",
    "    ok = 'y' if b-a < a-ob else '#BAD: closer to above one' \n",
    "    ob = b\n",
    "    print(f\"[{a:.3f}, {b:.3f}]:{len(x):3d} {b-a:.3f} {ok}\")"
   ]
  },
  {
   "cell_type": "code",
   "execution_count": null,
   "metadata": {},
   "outputs": [],
   "source": []
  }
 ],
 "metadata": {
  "kernelspec": {
   "display_name": "Python 3",
   "language": "python",
   "name": "python3"
  },
  "language_info": {
   "codemirror_mode": {
    "name": "ipython",
    "version": 3
   },
   "file_extension": ".py",
   "mimetype": "text/x-python",
   "name": "python",
   "nbconvert_exporter": "python",
   "pygments_lexer": "ipython3",
   "version": "3.8.5"
  }
 },
 "nbformat": 4,
 "nbformat_minor": 5
}
